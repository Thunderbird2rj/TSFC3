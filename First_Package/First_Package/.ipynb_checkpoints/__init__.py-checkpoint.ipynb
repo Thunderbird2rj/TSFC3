{
 "cells": [
  {
   "cell_type": "code",
   "execution_count": 2,
   "id": "b51376a2",
   "metadata": {},
   "outputs": [
    {
     "ename": "ModuleNotFoundError",
     "evalue": "No module named '__main__.Vector3D'; '__main__' is not a package",
     "output_type": "error",
     "traceback": [
      "\u001b[1;31m---------------------------------------------------------------------------\u001b[0m",
      "\u001b[1;31mModuleNotFoundError\u001b[0m                       Traceback (most recent call last)",
      "\u001b[1;32m<ipython-input-2-b874848d2bf2>\u001b[0m in \u001b[0;36m<module>\u001b[1;34m\u001b[0m\n\u001b[1;32m----> 1\u001b[1;33m \u001b[1;32mfrom\u001b[0m \u001b[1;33m.\u001b[0m\u001b[0mVector3D\u001b[0m \u001b[1;32mimport\u001b[0m \u001b[0mTrivector\u001b[0m\u001b[1;33m\u001b[0m\u001b[1;33m\u001b[0m\u001b[0m\n\u001b[0m",
      "\u001b[1;31mModuleNotFoundError\u001b[0m: No module named '__main__.Vector3D'; '__main__' is not a package"
     ]
    }
   ],
   "source": [
    "from .Vector3D import Trivector"
   ]
  },
  {
   "cell_type": "code",
   "execution_count": null,
   "id": "bea38b76",
   "metadata": {},
   "outputs": [],
   "source": []
  }
 ],
 "metadata": {
  "kernelspec": {
   "display_name": "Python 3",
   "language": "python",
   "name": "python3"
  }
 },
 "nbformat": 4,
 "nbformat_minor": 5
}
