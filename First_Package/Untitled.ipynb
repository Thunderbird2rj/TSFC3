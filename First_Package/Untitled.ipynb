{
 "cells": [
  {
   "cell_type": "code",
   "execution_count": 1,
   "id": "d80e6ce6-23d4-49a8-8332-2de60781043f",
   "metadata": {},
   "outputs": [],
   "source": [
    "from First_Package import Vector3D, Particulas"
   ]
  },
  {
   "cell_type": "code",
   "execution_count": 2,
   "id": "0af573ec-acb5-46a8-98d1-395307893bf0",
   "metadata": {},
   "outputs": [
    {
     "data": {
      "text/plain": [
       "<First_Package.Vector3D.Trivector at 0x1eaf5a052b0>"
      ]
     },
     "execution_count": 2,
     "metadata": {},
     "output_type": "execute_result"
    }
   ],
   "source": [
    "Vector3D.Trivector()"
   ]
  },
  {
   "cell_type": "code",
   "execution_count": 5,
   "id": "7a0e0b7b-82e3-4ef4-ab2d-411a406f17ab",
   "metadata": {},
   "outputs": [],
   "source": [
    "electron = Particulas.Lepton1(\n",
    "        nombre='Electron',\n",
    "        masa=\"0.51099895000±0.00000000015\",\n",
    "        carga=-1,\n",
    "        mommag=\"(1159.65218062±0.00000012)e-6\",\n",
    "        vm='>6.6e-28 años',\n",
    "        logn_de_des=\"-\",\n",
    "        dipolo_electrico='<0.041e-28',\n",
    "        dipolo_debil='-',\n",
    "        neutrinos=3,\n",
    "        anomalia='-',\n",
    "        familia_leptonica='-'\n",
    "    )"
   ]
  },
  {
   "cell_type": "code",
   "execution_count": 10,
   "id": "74159544-7ad9-4caa-9216-282f2c41cc04",
   "metadata": {},
   "outputs": [
    {
     "name": "stdout",
     "output_type": "stream",
     "text": [
      "Particula: Electron \n",
      "Masa (MeV/c^2): 0.51099895000±0.00000000015 \n",
      "Carga eléctrica (e): -1 \n",
      "Momento magnético anómalo (g − 2): (1159.65218062±0.00000012)e-6 \n",
      "Vida media (τ): >6.6e-28 años \n",
      "Longitud de desintegración (cτ): - \n",
      "Dipolo eléctrico (e·cm): <0.041e-28 \n",
      "Dipolo débil (e·cm): - \n",
      "Número de tipos de neutrinos: 3 \n",
      "Anomalia magnética débil: - \n",
      "Violación de número de familia leptónica: - \n",
      "\n"
     ]
    }
   ],
   "source": [
    "print(electron.info())\n"
   ]
  },
  {
   "cell_type": "code",
   "execution_count": 12,
   "id": "33291b1c-fb72-4ee5-9d23-c378575bda4b",
   "metadata": {},
   "outputs": [
    {
     "name": "stdout",
     "output_type": "stream",
     "text": [
      "Suma de vectores: Coordenadas del vector resultante(x=(5+0j), y=(7+0j), z=(9+0j))\n",
      "Resta de vectores: Coordenadas del vector resultante(x=(-3+0j), y=(-3+0j), z=(-3+0j))\n",
      "Producto escalar: (32+0j)\n",
      "Producto cruz: Coordenadas del vector resultante(x=(-3+0j), y=(6+0j), z=(-3+0j))\n"
     ]
    }
   ],
   "source": [
    "vector1 = Vector3D.Trivector(1, 2, 3)\n",
    "vector2 = Vector3D.Trivector(4, 5, 6)\n",
    "\n",
    "suma = vector1.__suma__(vector2)\n",
    "resta = vector1.__resta__(vector2)\n",
    "producto_escalar = vector1.punto(vector2)\n",
    "producto_cruz = vector1.cruz(vector2)\n",
    "\n",
    "print(\"Suma de vectores:\", suma.__resul__())\n",
    "print(\"Resta de vectores:\", resta.__resul__())\n",
    "print(\"Producto escalar:\", producto_escalar)\n",
    "print(\"Producto cruz:\", producto_cruz.__resul__())\n"
   ]
  },
  {
   "cell_type": "code",
   "execution_count": 3,
   "id": "89c38a5d-1953-447f-8d39-371762f38118",
   "metadata": {},
   "outputs": [
    {
     "name": "stderr",
     "output_type": "stream",
     "text": [
      "\n",
      "----------------------------------------------------------------------\n",
      "Ran 0 tests in 0.000s\n",
      "\n",
      "OK\n"
     ]
    }
   ],
   "source": [
    "!python -m unittest discover -s tests"
   ]
  },
  {
   "cell_type": "code",
   "execution_count": 4,
   "id": "ac6c1dbb-d988-4f33-bccf-8e6782732862",
   "metadata": {},
   "outputs": [
    {
     "name": "stdout",
     "output_type": "stream",
     "text": [
      "============================= test session starts =============================\n",
      "platform win32 -- Python 3.7.3, pytest-5.0.1, py-1.11.0, pluggy-0.12.0\n",
      "rootdir: C:\\Users\\USUARIO\\Desktop\\Tarea2\\First_Package\n",
      "plugins: anyio-3.5.0, arraydiff-0.3, doctestplus-0.11.1, openfiles-0.5.0, remotedata-0.3.2\n",
      "collected 11 items\n",
      "\n",
      "tests\\test_Particulas.py ....                                            [ 36%]\n",
      "tests\\test_Vector3D.py .......                                           [100%]\n",
      "\n",
      "========================== 11 passed in 0.97 seconds ==========================\n"
     ]
    }
   ],
   "source": [
    "!pytest tests/"
   ]
  }
 ],
 "metadata": {
  "kernelspec": {
   "display_name": "Python 3",
   "language": "python",
   "name": "python3"
  },
  "language_info": {
   "codemirror_mode": {
    "name": "ipython",
    "version": 3
   },
   "file_extension": ".py",
   "mimetype": "text/x-python",
   "name": "python",
   "nbconvert_exporter": "python",
   "pygments_lexer": "ipython3",
   "version": "3.7.3"
  }
 },
 "nbformat": 4,
 "nbformat_minor": 5
}
